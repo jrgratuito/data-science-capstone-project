{
    "nbformat_minor": 1, 
    "cells": [
        {
            "source": "### Week 3 Data Science Capstone Project", 
            "cell_type": "markdown", 
            "metadata": {
                "collapsed": true
            }
        }, 
        {
            "source": "##### Scraping List of Postal Codes of Canada : M", 
            "cell_type": "markdown", 
            "metadata": {}
        }, 
        {
            "execution_count": 7, 
            "cell_type": "code", 
            "metadata": {}, 
            "outputs": [
                {
                    "output_type": "stream", 
                    "name": "stdout", 
                    "text": "Requirement already satisfied: beautifulsoup4 in /opt/conda/envs/Python36/lib/python3.6/site-packages (4.7.1)\r\nRequirement already satisfied: soupsieve>=1.2 in /opt/conda/envs/Python36/lib/python3.6/site-packages (from beautifulsoup4) (1.7.1)\r\n"
                }
            ], 
            "source": "!pip install beautifulsoup4"
        }, 
        {
            "execution_count": 8, 
            "cell_type": "code", 
            "metadata": {}, 
            "outputs": [], 
            "source": "from bs4 import BeautifulSoup\n"
        }, 
        {
            "execution_count": 9, 
            "cell_type": "code", 
            "metadata": {}, 
            "outputs": [
                {
                    "output_type": "stream", 
                    "name": "stdout", 
                    "text": "Requirement already satisfied: requests in /opt/conda/envs/Python36/lib/python3.6/site-packages (2.21.0)\r\nRequirement already satisfied: idna<2.9,>=2.5 in /opt/conda/envs/Python36/lib/python3.6/site-packages (from requests) (2.8)\r\nRequirement already satisfied: urllib3<1.25,>=1.21.1 in /opt/conda/envs/Python36/lib/python3.6/site-packages (from requests) (1.24.1)\r\nRequirement already satisfied: chardet<3.1.0,>=3.0.2 in /opt/conda/envs/Python36/lib/python3.6/site-packages (from requests) (3.0.4)\r\nRequirement already satisfied: certifi>=2017.4.17 in /opt/conda/envs/Python36/lib/python3.6/site-packages (from requests) (2019.6.16)\r\n"
                }
            ], 
            "source": "!pip install requests"
        }, 
        {
            "execution_count": 10, 
            "cell_type": "code", 
            "metadata": {}, 
            "outputs": [], 
            "source": "import requests"
        }, 
        {
            "execution_count": 11, 
            "cell_type": "code", 
            "metadata": {}, 
            "outputs": [], 
            "source": "website_url = requests.get('https://en.wikipedia.org/wiki/List_of_postal_codes_of_Canada:_M').text"
        }, 
        {
            "execution_count": 32, 
            "cell_type": "code", 
            "metadata": {}, 
            "outputs": [], 
            "source": "soup = BeautifulSoup(website_url,'lxml')\n#print(soup.prettify())"
        }, 
        {
            "source": "#### Part 1", 
            "cell_type": "markdown", 
            "metadata": {}
        }, 
        {
            "execution_count": 37, 
            "cell_type": "code", 
            "metadata": {}, 
            "outputs": [], 
            "source": "\ntable = soup.find('table')\n\nPostcode      = []\nBorough       = []\nNeighbourhood = []\n\n# print(table)\n\n\nfor tr_cell in table.find_all('tr'):\n    \n    counter = 1\n    Postcode_var      = -1\n    Borough_var       = -1\n    Neighbourhood_var = -1\n    \n    for td_cell in tr_cell.find_all('td'):\n        if counter == 1: \n            Postcode_var = td_cell.text\n        if counter == 2: \n            Borough_var = td_cell.text\n            tag_a_Borough = td_cell.find('a')\n            \n        if counter == 3: \n            Neighbourhood_var = str(td_cell.text).strip()\n            tag_a_Neighbourhood = td_cell.find('a')\n            \n        counter +=1\n        \n    if (Postcode_var == 'Not assigned' or Borough_var == 'Not assigned' or Neighbourhood_var == 'Not assigned'): \n        continue\n    try:\n        if ((tag_a_Borough is None) or (tag_a_Neighbourhood is None)):\n            continue\n    except:\n        pass\n    if(Postcode_var == -1 or Borough_var == -1 or Neighbourhood_var == -1):\n        continue\n        \n    Postcode.append(Postcode_var)\n    Borough.append(Borough_var)\n    Neighbourhood.append(Neighbourhood_var)"
        }, 
        {
            "source": "#### Part 2", 
            "cell_type": "markdown", 
            "metadata": {}
        }, 
        {
            "execution_count": 38, 
            "cell_type": "code", 
            "metadata": {}, 
            "outputs": [
                {
                    "output_type": "stream", 
                    "name": "stdout", 
                    "text": "num of unique Postal codes: 77\n"
                }
            ], 
            "source": "unique_p = set(Postcode)\nprint('num of unique Postal codes:', len(unique_p))\nPostcode_u      = []\nBorough_u       = []\nNeighbourhood_u = []\n\n\nfor postcode_unique_element in unique_p:\n    p_var = ''; b_var = ''; n_var = ''; \n    for postcode_idx, postcode_element in enumerate(Postcode):\n        if postcode_unique_element == postcode_element:\n            p_var = postcode_element;\n            b_var = Borough[postcode_idx]\n            if n_var == '': \n                n_var = Neighbourhood[postcode_idx]\n            else:\n                n_var = n_var + ', ' + Neighbourhood[postcode_idx]\n    Postcode_u.append(p_var)\n    Borough_u.append(b_var)\n    Neighbourhood_u.append(n_var)"
        }, 
        {
            "source": "#### Part 3", 
            "cell_type": "markdown", 
            "metadata": {
                "scrolled": true
            }
        }, 
        {
            "execution_count": 40, 
            "cell_type": "code", 
            "metadata": {}, 
            "outputs": [
                {
                    "execution_count": 40, 
                    "metadata": {}, 
                    "data": {
                        "text/html": "<div>\n<style scoped>\n    .dataframe tbody tr th:only-of-type {\n        vertical-align: middle;\n    }\n\n    .dataframe tbody tr th {\n        vertical-align: top;\n    }\n\n    .dataframe thead th {\n        text-align: right;\n    }\n</style>\n<table border=\"1\" class=\"dataframe\">\n  <thead>\n    <tr style=\"text-align: right;\">\n      <th></th>\n      <th>Postcode</th>\n      <th>Borough</th>\n      <th>Neighbourhood</th>\n    </tr>\n  </thead>\n  <tbody>\n    <tr>\n      <th>0</th>\n      <td>M8X</td>\n      <td>Etobicoke</td>\n      <td>The Kingsway</td>\n    </tr>\n    <tr>\n      <th>1</th>\n      <td>M1L</td>\n      <td>Scarborough</td>\n      <td>Clairlea, Golden Mile, Oakridge</td>\n    </tr>\n    <tr>\n      <th>2</th>\n      <td>M5R</td>\n      <td>Central Toronto</td>\n      <td>The Annex, Yorkville</td>\n    </tr>\n    <tr>\n      <th>3</th>\n      <td>M5P</td>\n      <td>Central Toronto</td>\n      <td>Forest Hill North</td>\n    </tr>\n    <tr>\n      <th>4</th>\n      <td>M4W</td>\n      <td>Downtown Toronto</td>\n      <td>Rosedale</td>\n    </tr>\n  </tbody>\n</table>\n</div>", 
                        "text/plain": "  Postcode           Borough                    Neighbourhood\n0      M8X         Etobicoke                     The Kingsway\n1      M1L       Scarborough  Clairlea, Golden Mile, Oakridge\n2      M5R   Central Toronto             The Annex, Yorkville\n3      M5P   Central Toronto                Forest Hill North\n4      M4W  Downtown Toronto                         Rosedale"
                    }, 
                    "output_type": "execute_result"
                }
            ], 
            "source": "import pandas as pd\ntoronto_dict = {'Postcode':Postcode_u, 'Borough':Borough_u, 'Neighbourhood':Neighbourhood_u}\ndf_toronto = pd.DataFrame.from_dict(toronto_dict)\ndf_toronto.head()"
        }, 
        {
            "execution_count": 41, 
            "cell_type": "code", 
            "metadata": {}, 
            "outputs": [
                {
                    "execution_count": 41, 
                    "metadata": {}, 
                    "data": {
                        "text/plain": "(77, 3)"
                    }, 
                    "output_type": "execute_result"
                }
            ], 
            "source": "df_toronto.shape"
        }, 
        {
            "execution_count": null, 
            "cell_type": "code", 
            "metadata": {}, 
            "outputs": [], 
            "source": ""
        }
    ], 
    "metadata": {
        "kernelspec": {
            "display_name": "Python 3.6", 
            "name": "python3", 
            "language": "python"
        }, 
        "language_info": {
            "mimetype": "text/x-python", 
            "nbconvert_exporter": "python", 
            "version": "3.6.8", 
            "name": "python", 
            "file_extension": ".py", 
            "pygments_lexer": "ipython3", 
            "codemirror_mode": {
                "version": 3, 
                "name": "ipython"
            }
        }
    }, 
    "nbformat": 4
}