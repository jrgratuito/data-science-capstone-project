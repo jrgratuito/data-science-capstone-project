{
    "nbformat_minor": 1, 
    "cells": [
        {
            "source": "### Week 3 Data Science Capstone Project", 
            "cell_type": "markdown", 
            "metadata": {
                "collapsed": true
            }
        }, 
        {
            "source": "##### Scraping List of Postal Codes of Canada : M", 
            "cell_type": "markdown", 
            "metadata": {}
        }, 
        {
            "execution_count": 1, 
            "cell_type": "code", 
            "metadata": {}, 
            "outputs": [
                {
                    "output_type": "stream", 
                    "name": "stdout", 
                    "text": "Requirement already satisfied: beautifulsoup4 in /opt/conda/envs/Python36/lib/python3.6/site-packages (4.7.1)\r\nRequirement already satisfied: soupsieve>=1.2 in /opt/conda/envs/Python36/lib/python3.6/site-packages (from beautifulsoup4) (1.7.1)\r\n"
                }
            ], 
            "source": "!pip install beautifulsoup4"
        }, 
        {
            "execution_count": 2, 
            "cell_type": "code", 
            "metadata": {}, 
            "outputs": [], 
            "source": "from bs4 import BeautifulSoup\n"
        }, 
        {
            "execution_count": 3, 
            "cell_type": "code", 
            "metadata": {}, 
            "outputs": [
                {
                    "output_type": "stream", 
                    "name": "stdout", 
                    "text": "Requirement already satisfied: requests in /opt/conda/envs/Python36/lib/python3.6/site-packages (2.21.0)\nRequirement already satisfied: certifi>=2017.4.17 in /opt/conda/envs/Python36/lib/python3.6/site-packages (from requests) (2019.6.16)\nRequirement already satisfied: chardet<3.1.0,>=3.0.2 in /opt/conda/envs/Python36/lib/python3.6/site-packages (from requests) (3.0.4)\nRequirement already satisfied: urllib3<1.25,>=1.21.1 in /opt/conda/envs/Python36/lib/python3.6/site-packages (from requests) (1.24.1)\nRequirement already satisfied: idna<2.9,>=2.5 in /opt/conda/envs/Python36/lib/python3.6/site-packages (from requests) (2.8)\n"
                }
            ], 
            "source": "!pip install requests"
        }, 
        {
            "execution_count": 4, 
            "cell_type": "code", 
            "metadata": {}, 
            "outputs": [], 
            "source": "import requests"
        }, 
        {
            "execution_count": 5, 
            "cell_type": "code", 
            "metadata": {}, 
            "outputs": [], 
            "source": "website_url = requests.get('https://en.wikipedia.org/wiki/List_of_postal_codes_of_Canada:_M').text"
        }, 
        {
            "execution_count": 6, 
            "cell_type": "code", 
            "metadata": {}, 
            "outputs": [], 
            "source": "soup = BeautifulSoup(website_url,'lxml')\n#print(soup.prettify())"
        }, 
        {
            "source": "#### Part 1", 
            "cell_type": "markdown", 
            "metadata": {}
        }, 
        {
            "execution_count": 7, 
            "cell_type": "code", 
            "metadata": {}, 
            "outputs": [], 
            "source": "\ntable = soup.find('table')\n\nPostcode      = []\nBorough       = []\nNeighbourhood = []\n\n# print(table)\n\n\nfor tr_cell in table.find_all('tr'):\n    \n    counter = 1\n    Postcode_var      = -1\n    Borough_var       = -1\n    Neighbourhood_var = -1\n    \n    for td_cell in tr_cell.find_all('td'):\n        if counter == 1: \n            Postcode_var = td_cell.text\n        if counter == 2: \n            Borough_var = td_cell.text\n            tag_a_Borough = td_cell.find('a')\n            \n        if counter == 3: \n            Neighbourhood_var = str(td_cell.text).strip()\n            tag_a_Neighbourhood = td_cell.find('a')\n            \n        counter +=1\n        \n    if (Postcode_var == 'Not assigned' or Borough_var == 'Not assigned' or Neighbourhood_var == 'Not assigned'): \n        continue\n    try:\n        if ((tag_a_Borough is None) or (tag_a_Neighbourhood is None)):\n            continue\n    except:\n        pass\n    if(Postcode_var == -1 or Borough_var == -1 or Neighbourhood_var == -1):\n        continue\n        \n    Postcode.append(Postcode_var)\n    Borough.append(Borough_var)\n    Neighbourhood.append(Neighbourhood_var)"
        }, 
        {
            "source": "#### Part 2", 
            "cell_type": "markdown", 
            "metadata": {}
        }, 
        {
            "execution_count": 8, 
            "cell_type": "code", 
            "metadata": {}, 
            "outputs": [
                {
                    "output_type": "stream", 
                    "name": "stdout", 
                    "text": "num of unique Postal codes: 77\n"
                }
            ], 
            "source": "unique_p = set(Postcode)\nprint('num of unique Postal codes:', len(unique_p))\nPostcode_u      = []\nBorough_u       = []\nNeighbourhood_u = []\n\n\nfor postcode_unique_element in unique_p:\n    p_var = ''; b_var = ''; n_var = ''; \n    for postcode_idx, postcode_element in enumerate(Postcode):\n        if postcode_unique_element == postcode_element:\n            p_var = postcode_element;\n            b_var = Borough[postcode_idx]\n            if n_var == '': \n                n_var = Neighbourhood[postcode_idx]\n            else:\n                n_var = n_var + ', ' + Neighbourhood[postcode_idx]\n    Postcode_u.append(p_var)\n    Borough_u.append(b_var)\n    Neighbourhood_u.append(n_var)"
        }, 
        {
            "source": "#### Part 3", 
            "cell_type": "markdown", 
            "metadata": {
                "scrolled": true
            }
        }, 
        {
            "execution_count": 15, 
            "cell_type": "code", 
            "metadata": {}, 
            "outputs": [], 
            "source": "import pandas as pd\ntoronto_dict = {'Postal Code':Postcode_u, 'Borough':Borough_u, 'Neighbourhood':Neighbourhood_u}\ndf_toronto = pd.DataFrame.from_dict(toronto_dict)"
        }, 
        {
            "execution_count": 25, 
            "cell_type": "code", 
            "metadata": {}, 
            "outputs": [
                {
                    "execution_count": 25, 
                    "metadata": {}, 
                    "data": {
                        "text/plain": "Postal Code      object\nBorough          object\nNeighbourhood    object\ndtype: object"
                    }, 
                    "output_type": "execute_result"
                }
            ], 
            "source": "df_toronto.shape\ndf_toronto.dtypes"
        }, 
        {
            "execution_count": 23, 
            "cell_type": "code", 
            "metadata": {}, 
            "outputs": [
                {
                    "execution_count": 23, 
                    "metadata": {}, 
                    "data": {
                        "text/plain": "Postal Code     object\nLatitude       float64\nLongitude      float64\ndtype: object"
                    }, 
                    "output_type": "execute_result"
                }
            ], 
            "source": "coord_df = pd.read_csv('http://cocl.us/Geospatial_data')\ncoord_df.dtypes"
        }, 
        {
            "execution_count": 27, 
            "cell_type": "code", 
            "metadata": {}, 
            "outputs": [], 
            "source": "tor_coord_df = df_toronto.merge(coord_df,how='left', on='Postal Code')"
        }, 
        {
            "execution_count": 28, 
            "cell_type": "code", 
            "metadata": {}, 
            "outputs": [
                {
                    "execution_count": 28, 
                    "metadata": {}, 
                    "data": {
                        "text/html": "<div>\n<style scoped>\n    .dataframe tbody tr th:only-of-type {\n        vertical-align: middle;\n    }\n\n    .dataframe tbody tr th {\n        vertical-align: top;\n    }\n\n    .dataframe thead th {\n        text-align: right;\n    }\n</style>\n<table border=\"1\" class=\"dataframe\">\n  <thead>\n    <tr style=\"text-align: right;\">\n      <th></th>\n      <th>Postal Code</th>\n      <th>Borough</th>\n      <th>Neighbourhood</th>\n      <th>Latitude</th>\n      <th>Longitude</th>\n    </tr>\n  </thead>\n  <tbody>\n    <tr>\n      <th>0</th>\n      <td>M8V</td>\n      <td>Etobicoke</td>\n      <td>New Toronto</td>\n      <td>43.605647</td>\n      <td>-79.501321</td>\n    </tr>\n    <tr>\n      <th>1</th>\n      <td>M1T</td>\n      <td>Scarborough</td>\n      <td>Tam O'Shanter</td>\n      <td>43.781638</td>\n      <td>-79.304302</td>\n    </tr>\n    <tr>\n      <th>2</th>\n      <td>M6J</td>\n      <td>West Toronto</td>\n      <td>Little Portugal, Trinity</td>\n      <td>43.647927</td>\n      <td>-79.419750</td>\n    </tr>\n    <tr>\n      <th>3</th>\n      <td>M4K</td>\n      <td>East Toronto</td>\n      <td>Riverdale</td>\n      <td>43.679557</td>\n      <td>-79.352188</td>\n    </tr>\n    <tr>\n      <th>4</th>\n      <td>M4E</td>\n      <td>East Toronto</td>\n      <td>The Beaches</td>\n      <td>43.676357</td>\n      <td>-79.293031</td>\n    </tr>\n    <tr>\n      <th>5</th>\n      <td>M8Y</td>\n      <td>Etobicoke</td>\n      <td>Humber Bay, Mimico NE, Old Mill South, The Que...</td>\n      <td>43.636258</td>\n      <td>-79.498509</td>\n    </tr>\n    <tr>\n      <th>6</th>\n      <td>M4C</td>\n      <td>East York</td>\n      <td>Woodbine Heights</td>\n      <td>43.695344</td>\n      <td>-79.318389</td>\n    </tr>\n    <tr>\n      <th>7</th>\n      <td>M4B</td>\n      <td>East York</td>\n      <td>Woodbine Gardens, Parkview Hill</td>\n      <td>43.706397</td>\n      <td>-79.309937</td>\n    </tr>\n    <tr>\n      <th>8</th>\n      <td>M1V</td>\n      <td>Scarborough</td>\n      <td>Agincourt North, Milliken</td>\n      <td>43.815252</td>\n      <td>-79.284577</td>\n    </tr>\n    <tr>\n      <th>9</th>\n      <td>M1E</td>\n      <td>Scarborough</td>\n      <td>Morningside, West Hill</td>\n      <td>43.763573</td>\n      <td>-79.188711</td>\n    </tr>\n    <tr>\n      <th>10</th>\n      <td>M8Z</td>\n      <td>Etobicoke</td>\n      <td>Mimico NW, The Queensway West</td>\n      <td>43.628841</td>\n      <td>-79.520999</td>\n    </tr>\n    <tr>\n      <th>11</th>\n      <td>M8X</td>\n      <td>Etobicoke</td>\n      <td>The Kingsway</td>\n      <td>43.653654</td>\n      <td>-79.506944</td>\n    </tr>\n    <tr>\n      <th>12</th>\n      <td>M9C</td>\n      <td>Etobicoke</td>\n      <td>Markland Wood</td>\n      <td>43.643515</td>\n      <td>-79.577201</td>\n    </tr>\n    <tr>\n      <th>13</th>\n      <td>M9A</td>\n      <td>Etobicoke</td>\n      <td>Islington Avenue</td>\n      <td>43.667856</td>\n      <td>-79.532242</td>\n    </tr>\n    <tr>\n      <th>14</th>\n      <td>M8W</td>\n      <td>Etobicoke</td>\n      <td>Alderwood, Long Branch</td>\n      <td>43.602414</td>\n      <td>-79.543484</td>\n    </tr>\n    <tr>\n      <th>15</th>\n      <td>M3H</td>\n      <td>North York</td>\n      <td>Bathurst Manor, Wilson Heights</td>\n      <td>43.754328</td>\n      <td>-79.442259</td>\n    </tr>\n    <tr>\n      <th>16</th>\n      <td>M2M</td>\n      <td>North York</td>\n      <td>Newtonbrook, Willowdale</td>\n      <td>43.789053</td>\n      <td>-79.408493</td>\n    </tr>\n    <tr>\n      <th>17</th>\n      <td>M5L</td>\n      <td>Downtown Toronto</td>\n      <td>Commerce Court</td>\n      <td>43.648198</td>\n      <td>-79.379817</td>\n    </tr>\n    <tr>\n      <th>18</th>\n      <td>M4N</td>\n      <td>Central Toronto</td>\n      <td>Lawrence Park</td>\n      <td>43.728020</td>\n      <td>-79.388790</td>\n    </tr>\n    <tr>\n      <th>19</th>\n      <td>M5K</td>\n      <td>Downtown Toronto</td>\n      <td>Design Exchange, Toronto Dominion Centre</td>\n      <td>43.647177</td>\n      <td>-79.381576</td>\n    </tr>\n    <tr>\n      <th>20</th>\n      <td>M3J</td>\n      <td>North York</td>\n      <td>Northwood Park, York University</td>\n      <td>43.767980</td>\n      <td>-79.487262</td>\n    </tr>\n    <tr>\n      <th>21</th>\n      <td>M1N</td>\n      <td>Scarborough</td>\n      <td>Birch Cliff</td>\n      <td>43.692657</td>\n      <td>-79.264848</td>\n    </tr>\n    <tr>\n      <th>22</th>\n      <td>M1X</td>\n      <td>Scarborough</td>\n      <td>Upper Rouge</td>\n      <td>43.836125</td>\n      <td>-79.205636</td>\n    </tr>\n    <tr>\n      <th>23</th>\n      <td>M1G</td>\n      <td>Scarborough</td>\n      <td>Woburn</td>\n      <td>43.770992</td>\n      <td>-79.216917</td>\n    </tr>\n    <tr>\n      <th>24</th>\n      <td>M5P</td>\n      <td>Central Toronto</td>\n      <td>Forest Hill North</td>\n      <td>43.696948</td>\n      <td>-79.411307</td>\n    </tr>\n    <tr>\n      <th>25</th>\n      <td>M6P</td>\n      <td>West Toronto</td>\n      <td>High Park</td>\n      <td>43.661608</td>\n      <td>-79.464763</td>\n    </tr>\n    <tr>\n      <th>26</th>\n      <td>M6L</td>\n      <td>North York</td>\n      <td>Downsview</td>\n      <td>43.713756</td>\n      <td>-79.490074</td>\n    </tr>\n    <tr>\n      <th>27</th>\n      <td>M9B</td>\n      <td>Etobicoke</td>\n      <td>Islington, Princess Gardens, West Deane Park</td>\n      <td>43.650943</td>\n      <td>-79.554724</td>\n    </tr>\n    <tr>\n      <th>28</th>\n      <td>M1L</td>\n      <td>Scarborough</td>\n      <td>Clairlea, Golden Mile, Oakridge</td>\n      <td>43.711112</td>\n      <td>-79.284577</td>\n    </tr>\n    <tr>\n      <th>29</th>\n      <td>M1J</td>\n      <td>Scarborough</td>\n      <td>Scarborough Village</td>\n      <td>43.744734</td>\n      <td>-79.239476</td>\n    </tr>\n    <tr>\n      <th>...</th>\n      <td>...</td>\n      <td>...</td>\n      <td>...</td>\n      <td>...</td>\n      <td>...</td>\n    </tr>\n    <tr>\n      <th>47</th>\n      <td>M3K</td>\n      <td>North York</td>\n      <td>CFB Toronto</td>\n      <td>43.737473</td>\n      <td>-79.464763</td>\n    </tr>\n    <tr>\n      <th>48</th>\n      <td>M9N</td>\n      <td>York</td>\n      <td>Weston</td>\n      <td>43.706876</td>\n      <td>-79.518188</td>\n    </tr>\n    <tr>\n      <th>49</th>\n      <td>M5X</td>\n      <td>Downtown Toronto</td>\n      <td>First Canadian Place, Underground city</td>\n      <td>43.648429</td>\n      <td>-79.382280</td>\n    </tr>\n    <tr>\n      <th>50</th>\n      <td>M6K</td>\n      <td>West Toronto</td>\n      <td>Exhibition Place, Parkdale Village</td>\n      <td>43.636847</td>\n      <td>-79.428191</td>\n    </tr>\n    <tr>\n      <th>51</th>\n      <td>M4G</td>\n      <td>East York</td>\n      <td>Leaside</td>\n      <td>43.709060</td>\n      <td>-79.363452</td>\n    </tr>\n    <tr>\n      <th>52</th>\n      <td>M5V</td>\n      <td>Downtown Toronto</td>\n      <td>CN Tower, King and Spadina, Railway Lands, Sou...</td>\n      <td>43.628947</td>\n      <td>-79.394420</td>\n    </tr>\n    <tr>\n      <th>53</th>\n      <td>M4Y</td>\n      <td>Downtown Toronto</td>\n      <td>Church and Wellesley</td>\n      <td>43.665860</td>\n      <td>-79.383160</td>\n    </tr>\n    <tr>\n      <th>54</th>\n      <td>M5S</td>\n      <td>Downtown Toronto</td>\n      <td>University of Toronto</td>\n      <td>43.662696</td>\n      <td>-79.400049</td>\n    </tr>\n    <tr>\n      <th>55</th>\n      <td>M1C</td>\n      <td>Scarborough</td>\n      <td>Highland Creek, Rouge Hill, Port Union</td>\n      <td>43.784535</td>\n      <td>-79.160497</td>\n    </tr>\n    <tr>\n      <th>56</th>\n      <td>M3A</td>\n      <td>North York</td>\n      <td>Parkwoods</td>\n      <td>43.753259</td>\n      <td>-79.329656</td>\n    </tr>\n    <tr>\n      <th>57</th>\n      <td>M4V</td>\n      <td>Central Toronto</td>\n      <td>Deer Park, Rathnelly, South Hill</td>\n      <td>43.686412</td>\n      <td>-79.400049</td>\n    </tr>\n    <tr>\n      <th>58</th>\n      <td>M4W</td>\n      <td>Downtown Toronto</td>\n      <td>Rosedale</td>\n      <td>43.679563</td>\n      <td>-79.377529</td>\n    </tr>\n    <tr>\n      <th>59</th>\n      <td>M5E</td>\n      <td>Downtown Toronto</td>\n      <td>Berczy Park</td>\n      <td>43.644771</td>\n      <td>-79.373306</td>\n    </tr>\n    <tr>\n      <th>60</th>\n      <td>M1B</td>\n      <td>Scarborough</td>\n      <td>Rouge, Malvern</td>\n      <td>43.806686</td>\n      <td>-79.194353</td>\n    </tr>\n    <tr>\n      <th>61</th>\n      <td>M5R</td>\n      <td>Central Toronto</td>\n      <td>The Annex, Yorkville</td>\n      <td>43.672710</td>\n      <td>-79.405678</td>\n    </tr>\n    <tr>\n      <th>62</th>\n      <td>M1R</td>\n      <td>Scarborough</td>\n      <td>Maryvale, Wexford</td>\n      <td>43.750072</td>\n      <td>-79.295849</td>\n    </tr>\n    <tr>\n      <th>63</th>\n      <td>M9R</td>\n      <td>Etobicoke</td>\n      <td>Kingsview Village</td>\n      <td>43.688905</td>\n      <td>-79.554724</td>\n    </tr>\n    <tr>\n      <th>64</th>\n      <td>M5A</td>\n      <td>Downtown Toronto</td>\n      <td>Harbourfront, Regent Park</td>\n      <td>43.654260</td>\n      <td>-79.360636</td>\n    </tr>\n    <tr>\n      <th>65</th>\n      <td>M2R</td>\n      <td>North York</td>\n      <td>Willowdale West</td>\n      <td>43.782736</td>\n      <td>-79.442259</td>\n    </tr>\n    <tr>\n      <th>66</th>\n      <td>M5T</td>\n      <td>Downtown Toronto</td>\n      <td>Chinatown, Grange Park, Kensington Market</td>\n      <td>43.653206</td>\n      <td>-79.400049</td>\n    </tr>\n    <tr>\n      <th>67</th>\n      <td>M6M</td>\n      <td>York</td>\n      <td>Keelesdale, Mount Dennis, Silverthorn</td>\n      <td>43.691116</td>\n      <td>-79.476013</td>\n    </tr>\n    <tr>\n      <th>68</th>\n      <td>M5C</td>\n      <td>Downtown Toronto</td>\n      <td>St. James Town</td>\n      <td>43.651494</td>\n      <td>-79.375418</td>\n    </tr>\n    <tr>\n      <th>69</th>\n      <td>M4H</td>\n      <td>East York</td>\n      <td>Thorncliffe Park</td>\n      <td>43.705369</td>\n      <td>-79.349372</td>\n    </tr>\n    <tr>\n      <th>70</th>\n      <td>M2H</td>\n      <td>North York</td>\n      <td>Hillcrest Village</td>\n      <td>43.803762</td>\n      <td>-79.363452</td>\n    </tr>\n    <tr>\n      <th>71</th>\n      <td>M6S</td>\n      <td>West Toronto</td>\n      <td>Runnymede, Swansea</td>\n      <td>43.651571</td>\n      <td>-79.484450</td>\n    </tr>\n    <tr>\n      <th>72</th>\n      <td>M6R</td>\n      <td>West Toronto</td>\n      <td>Parkdale, Roncesvalles</td>\n      <td>43.648960</td>\n      <td>-79.456325</td>\n    </tr>\n    <tr>\n      <th>73</th>\n      <td>M3C</td>\n      <td>North York</td>\n      <td>Flemingdon Park</td>\n      <td>43.725900</td>\n      <td>-79.340923</td>\n    </tr>\n    <tr>\n      <th>74</th>\n      <td>M4L</td>\n      <td>East Toronto</td>\n      <td>India Bazaar</td>\n      <td>43.668999</td>\n      <td>-79.315572</td>\n    </tr>\n    <tr>\n      <th>75</th>\n      <td>M5J</td>\n      <td>Downtown Toronto</td>\n      <td>Toronto Islands, Union Station</td>\n      <td>43.640816</td>\n      <td>-79.381752</td>\n    </tr>\n    <tr>\n      <th>76</th>\n      <td>M1M</td>\n      <td>Scarborough</td>\n      <td>Cliffcrest, Cliffside</td>\n      <td>43.716316</td>\n      <td>-79.239476</td>\n    </tr>\n  </tbody>\n</table>\n<p>77 rows \u00d7 5 columns</p>\n</div>", 
                        "text/plain": "   Postal Code           Borough  \\\n0          M8V         Etobicoke   \n1          M1T       Scarborough   \n2          M6J      West Toronto   \n3          M4K      East Toronto   \n4          M4E      East Toronto   \n5          M8Y         Etobicoke   \n6          M4C         East York   \n7          M4B         East York   \n8          M1V       Scarborough   \n9          M1E       Scarborough   \n10         M8Z         Etobicoke   \n11         M8X         Etobicoke   \n12         M9C         Etobicoke   \n13         M9A         Etobicoke   \n14         M8W         Etobicoke   \n15         M3H        North York   \n16         M2M        North York   \n17         M5L  Downtown Toronto   \n18         M4N   Central Toronto   \n19         M5K  Downtown Toronto   \n20         M3J        North York   \n21         M1N       Scarborough   \n22         M1X       Scarborough   \n23         M1G       Scarborough   \n24         M5P   Central Toronto   \n25         M6P      West Toronto   \n26         M6L        North York   \n27         M9B         Etobicoke   \n28         M1L       Scarborough   \n29         M1J       Scarborough   \n..         ...               ...   \n47         M3K        North York   \n48         M9N              York   \n49         M5X  Downtown Toronto   \n50         M6K      West Toronto   \n51         M4G         East York   \n52         M5V  Downtown Toronto   \n53         M4Y  Downtown Toronto   \n54         M5S  Downtown Toronto   \n55         M1C       Scarborough   \n56         M3A        North York   \n57         M4V   Central Toronto   \n58         M4W  Downtown Toronto   \n59         M5E  Downtown Toronto   \n60         M1B       Scarborough   \n61         M5R   Central Toronto   \n62         M1R       Scarborough   \n63         M9R         Etobicoke   \n64         M5A  Downtown Toronto   \n65         M2R        North York   \n66         M5T  Downtown Toronto   \n67         M6M              York   \n68         M5C  Downtown Toronto   \n69         M4H         East York   \n70         M2H        North York   \n71         M6S      West Toronto   \n72         M6R      West Toronto   \n73         M3C        North York   \n74         M4L      East Toronto   \n75         M5J  Downtown Toronto   \n76         M1M       Scarborough   \n\n                                        Neighbourhood   Latitude  Longitude  \n0                                         New Toronto  43.605647 -79.501321  \n1                                       Tam O'Shanter  43.781638 -79.304302  \n2                            Little Portugal, Trinity  43.647927 -79.419750  \n3                                           Riverdale  43.679557 -79.352188  \n4                                         The Beaches  43.676357 -79.293031  \n5   Humber Bay, Mimico NE, Old Mill South, The Que...  43.636258 -79.498509  \n6                                    Woodbine Heights  43.695344 -79.318389  \n7                     Woodbine Gardens, Parkview Hill  43.706397 -79.309937  \n8                           Agincourt North, Milliken  43.815252 -79.284577  \n9                              Morningside, West Hill  43.763573 -79.188711  \n10                      Mimico NW, The Queensway West  43.628841 -79.520999  \n11                                       The Kingsway  43.653654 -79.506944  \n12                                      Markland Wood  43.643515 -79.577201  \n13                                   Islington Avenue  43.667856 -79.532242  \n14                             Alderwood, Long Branch  43.602414 -79.543484  \n15                     Bathurst Manor, Wilson Heights  43.754328 -79.442259  \n16                            Newtonbrook, Willowdale  43.789053 -79.408493  \n17                                     Commerce Court  43.648198 -79.379817  \n18                                      Lawrence Park  43.728020 -79.388790  \n19           Design Exchange, Toronto Dominion Centre  43.647177 -79.381576  \n20                    Northwood Park, York University  43.767980 -79.487262  \n21                                        Birch Cliff  43.692657 -79.264848  \n22                                        Upper Rouge  43.836125 -79.205636  \n23                                             Woburn  43.770992 -79.216917  \n24                                  Forest Hill North  43.696948 -79.411307  \n25                                          High Park  43.661608 -79.464763  \n26                                          Downsview  43.713756 -79.490074  \n27       Islington, Princess Gardens, West Deane Park  43.650943 -79.554724  \n28                    Clairlea, Golden Mile, Oakridge  43.711112 -79.284577  \n29                                Scarborough Village  43.744734 -79.239476  \n..                                                ...        ...        ...  \n47                                        CFB Toronto  43.737473 -79.464763  \n48                                             Weston  43.706876 -79.518188  \n49             First Canadian Place, Underground city  43.648429 -79.382280  \n50                 Exhibition Place, Parkdale Village  43.636847 -79.428191  \n51                                            Leaside  43.709060 -79.363452  \n52  CN Tower, King and Spadina, Railway Lands, Sou...  43.628947 -79.394420  \n53                               Church and Wellesley  43.665860 -79.383160  \n54                              University of Toronto  43.662696 -79.400049  \n55             Highland Creek, Rouge Hill, Port Union  43.784535 -79.160497  \n56                                          Parkwoods  43.753259 -79.329656  \n57                   Deer Park, Rathnelly, South Hill  43.686412 -79.400049  \n58                                           Rosedale  43.679563 -79.377529  \n59                                        Berczy Park  43.644771 -79.373306  \n60                                     Rouge, Malvern  43.806686 -79.194353  \n61                               The Annex, Yorkville  43.672710 -79.405678  \n62                                  Maryvale, Wexford  43.750072 -79.295849  \n63                                  Kingsview Village  43.688905 -79.554724  \n64                          Harbourfront, Regent Park  43.654260 -79.360636  \n65                                    Willowdale West  43.782736 -79.442259  \n66          Chinatown, Grange Park, Kensington Market  43.653206 -79.400049  \n67              Keelesdale, Mount Dennis, Silverthorn  43.691116 -79.476013  \n68                                     St. James Town  43.651494 -79.375418  \n69                                   Thorncliffe Park  43.705369 -79.349372  \n70                                  Hillcrest Village  43.803762 -79.363452  \n71                                 Runnymede, Swansea  43.651571 -79.484450  \n72                             Parkdale, Roncesvalles  43.648960 -79.456325  \n73                                    Flemingdon Park  43.725900 -79.340923  \n74                                       India Bazaar  43.668999 -79.315572  \n75                     Toronto Islands, Union Station  43.640816 -79.381752  \n76                              Cliffcrest, Cliffside  43.716316 -79.239476  \n\n[77 rows x 5 columns]"
                    }, 
                    "output_type": "execute_result"
                }
            ], 
            "source": "tor_coord_df"
        }, 
        {
            "execution_count": null, 
            "cell_type": "code", 
            "metadata": {}, 
            "outputs": [], 
            "source": ""
        }
    ], 
    "metadata": {
        "kernelspec": {
            "display_name": "Python 3.6", 
            "name": "python3", 
            "language": "python"
        }, 
        "language_info": {
            "mimetype": "text/x-python", 
            "nbconvert_exporter": "python", 
            "version": "3.6.8", 
            "name": "python", 
            "file_extension": ".py", 
            "pygments_lexer": "ipython3", 
            "codemirror_mode": {
                "version": 3, 
                "name": "ipython"
            }
        }
    }, 
    "nbformat": 4
}